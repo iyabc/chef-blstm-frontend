{
 "cells": [
  {
   "cell_type": "code",
   "execution_count": null,
   "metadata": {},
   "outputs": [],
   "source": [
    "import pandas as pd"
   ]
  },
  {
   "cell_type": "code",
   "execution_count": null,
   "metadata": {},
   "outputs": [],
   "source": [
    "recipenlg_dataset_path = 'datasets/full_dataset.csv'\n",
    "recipenlg_dataset = pd.read_csv(recipenlg_dataset_path)"
   ]
  },
  {
   "cell_type": "code",
   "execution_count": null,
   "metadata": {},
   "outputs": [],
   "source": [
    "accepted_recipes = []\n",
    "\n",
    "accepted_recipes = [row for index, row in recipenlg_dataset.iterrows() if all(ner.lower() in ner_values for ner in row['NER'].replace('[', '').replace(']', '').replace('\"', '').split(', '))]\n",
    "\n",
    "print(accepted_recipes)"
   ]
  }
 ],
 "metadata": {
  "kernelspec": {
   "display_name": "Python 3",
   "language": "python",
   "name": "python3"
  },
  "language_info": {
   "name": "python",
   "version": "3.5.4"
  }
 },
 "nbformat": 4,
 "nbformat_minor": 2
}
